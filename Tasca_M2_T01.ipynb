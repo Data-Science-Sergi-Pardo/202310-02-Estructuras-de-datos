{
 "cells": [
  {
   "cell_type": "markdown",
   "id": "220fc787",
   "metadata": {},
   "source": [
    "## Exercici 1"
   ]
  },
  {
   "cell_type": "code",
   "execution_count": 34,
   "id": "a132a037",
   "metadata": {},
   "outputs": [
    {
     "name": "stdout",
     "output_type": "stream",
     "text": [
      "[['gener', 'febrer', 'març'], ['abril', 'maig', 'juny'], ['juliol', 'agost', 'setembre'], ['octubre', 'novembre', 'desembre']]\n"
     ]
    }
   ],
   "source": [
    "any = []\n",
    "\n",
    "T1 = [\"gener\", \"febrer\", \"març\"]\n",
    "T2 = [\"abril\", \"maig\", \"juny\"]\n",
    "T3 = [\"juliol\", \"agost\", \"setembre\"]\n",
    "T4 = [\"octubre\", \"novembre\", \"desembre\"]\n",
    "\n",
    "any.append(T1)\n",
    "any.append(T2)\n",
    "any.append(T3)\n",
    "any.append(T4)\n",
    "\n",
    "print(any)\n"
   ]
  },
  {
   "cell_type": "markdown",
   "id": "f8fcfa8f",
   "metadata": {},
   "source": [
    "## Exercici 2"
   ]
  },
  {
   "cell_type": "markdown",
   "id": "5de60ec2",
   "metadata": {},
   "source": [
    "- El segon mes del primer trimestre."
   ]
  },
  {
   "cell_type": "code",
   "execution_count": 163,
   "id": "27868515",
   "metadata": {},
   "outputs": [
    {
     "name": "stdout",
     "output_type": "stream",
     "text": [
      "febrer\n",
      "\n",
      "febrer\n"
     ]
    }
   ],
   "source": [
    "print(any[0][1])\n",
    "print()\n",
    "print(T1[1])"
   ]
  },
  {
   "cell_type": "markdown",
   "id": "fc7f95f6",
   "metadata": {},
   "source": [
    "- Els mesos del primer trimestre."
   ]
  },
  {
   "cell_type": "code",
   "execution_count": 174,
   "id": "809d7e82",
   "metadata": {},
   "outputs": [
    {
     "name": "stdout",
     "output_type": "stream",
     "text": [
      "gener\n",
      "febrer\n",
      "març\n",
      "\n",
      "gener\n",
      "febrer\n",
      "març\n",
      "\n",
      "['gener', 'febrer', 'març']\n"
     ]
    }
   ],
   "source": [
    "for i in T1:\n",
    "    print(i)\n",
    "print()\n",
    "\n",
    "for i in range(len(T1)):\n",
    "    print(T1[i])\n",
    "print()\n",
    "\n",
    "print(any[0])"
   ]
  },
  {
   "cell_type": "markdown",
   "id": "cd12326f",
   "metadata": {},
   "source": [
    "- Setembre i octubre."
   ]
  },
  {
   "cell_type": "code",
   "execution_count": 164,
   "id": "470f9a03",
   "metadata": {},
   "outputs": [
    {
     "name": "stdout",
     "output_type": "stream",
     "text": [
      "setembre octubre\n"
     ]
    }
   ],
   "source": [
    "print(any[2][2], any[3][0])"
   ]
  },
  {
   "cell_type": "markdown",
   "id": "0f9141aa",
   "metadata": {},
   "source": [
    "## Exercici 3"
   ]
  },
  {
   "cell_type": "markdown",
   "id": "6620dfe1",
   "metadata": {},
   "source": [
    "- Crea una llista amb nombres desordenats i respon a les següents preguntes:"
   ]
  },
  {
   "cell_type": "code",
   "execution_count": 221,
   "id": "b4e9931a",
   "metadata": {},
   "outputs": [
    {
     "name": "stdout",
     "output_type": "stream",
     "text": [
      "[7, 3, 6, 1, 5, 6, 2, 10, 4, 9, 2, 8, 9, 1, 3, 2, 3, 6, 8, 6, 1, 4, 1, 5, 8]\n"
     ]
    }
   ],
   "source": [
    "from random import randint\n",
    "nombres = [randint(1,10) for i in range(0,25)]\n",
    "print(nombres)"
   ]
  },
  {
   "cell_type": "markdown",
   "id": "36e19480",
   "metadata": {},
   "source": [
    "- Quants números hi ha?"
   ]
  },
  {
   "cell_type": "code",
   "execution_count": 3,
   "id": "3973bed7",
   "metadata": {},
   "outputs": [
    {
     "name": "stdout",
     "output_type": "stream",
     "text": [
      "25\n"
     ]
    }
   ],
   "source": [
    "myList = [8, 4, 7, 1, 7, 6, 3, 5, 7, 10, 9, 10, 10, 7, 3, 7, 9, 5, 8, 10, 9, 2, 8, 8, 5]\n",
    "\n",
    "print(len(myList))"
   ]
  },
  {
   "cell_type": "markdown",
   "id": "bf4abb13",
   "metadata": {},
   "source": [
    "- Quantes vegades apareix el número 3."
   ]
  },
  {
   "cell_type": "code",
   "execution_count": 5,
   "id": "6fe5cbc6",
   "metadata": {},
   "outputs": [
    {
     "name": "stdout",
     "output_type": "stream",
     "text": [
      "2\n",
      "\n",
      "2\n"
     ]
    }
   ],
   "source": [
    "print((myList).count(3))\n",
    "\n",
    "print()\n",
    "def total_nombre (myList, nombre):\n",
    "    count = 0\n",
    "    for element in myList:\n",
    "        if element == nombre:\n",
    "            count +=1\n",
    "    return count\n",
    "\n",
    "print(total_nombre(myList, 3))"
   ]
  },
  {
   "cell_type": "markdown",
   "id": "7bce5c7b",
   "metadata": {},
   "source": [
    "- Quantes vegades apareixen els nombres 3 i 4?"
   ]
  },
  {
   "cell_type": "code",
   "execution_count": 6,
   "id": "d208ca55",
   "metadata": {},
   "outputs": [
    {
     "name": "stdout",
     "output_type": "stream",
     "text": [
      "3\n",
      "\n",
      "3\n"
     ]
    }
   ],
   "source": [
    "def total_nombre2 (myList, nombre, nombre2):\n",
    "    count = 0\n",
    "    for element in myList:\n",
    "        if element == nombre:\n",
    "            count +=1\n",
    "    for element2 in myList:\n",
    "        if element2 == nombre2:\n",
    "            count +=1\n",
    "    return count\n",
    "\n",
    "print(total_nombre2(myList, 3, 4))\n",
    "print()\n",
    "\n",
    "print((myList).count(3) + (myList).count(4))"
   ]
  },
  {
   "cell_type": "markdown",
   "id": "638bd651",
   "metadata": {},
   "source": [
    "- Quin és el número més gran?"
   ]
  },
  {
   "cell_type": "code",
   "execution_count": 9,
   "id": "0cad4919",
   "metadata": {},
   "outputs": [
    {
     "name": "stdout",
     "output_type": "stream",
     "text": [
      "10\n"
     ]
    }
   ],
   "source": [
    "print(max(myList))"
   ]
  },
  {
   "cell_type": "markdown",
   "id": "f7c04f36",
   "metadata": {},
   "source": [
    "- Quins són els 3 números més petits?"
   ]
  },
  {
   "cell_type": "code",
   "execution_count": 10,
   "id": "6f9b3cf1",
   "metadata": {},
   "outputs": [
    {
     "name": "stdout",
     "output_type": "stream",
     "text": [
      "[1, 2, 3]\n"
     ]
    }
   ],
   "source": [
    "import heapq\n",
    "print(heapq.nsmallest(3, myList))"
   ]
  },
  {
   "cell_type": "markdown",
   "id": "fce13783",
   "metadata": {},
   "source": [
    "- Quin és el rang d’aquesta llista?"
   ]
  },
  {
   "cell_type": "code",
   "execution_count": 12,
   "id": "60d347ed",
   "metadata": {},
   "outputs": [
    {
     "name": "stdout",
     "output_type": "stream",
     "text": [
      "El rang d'aquesta llista es  9\n"
     ]
    }
   ],
   "source": [
    "print(\"El rang d'aquesta llista es \", max(myList)- min(myList))"
   ]
  },
  {
   "cell_type": "markdown",
   "id": "9786a559",
   "metadata": {},
   "source": [
    "## Exercici 4"
   ]
  },
  {
   "cell_type": "code",
   "execution_count": 23,
   "id": "318b51eb",
   "metadata": {},
   "outputs": [
    {
     "name": "stdout",
     "output_type": "stream",
     "text": [
      "<class 'dict'>\n"
     ]
    }
   ],
   "source": [
    "compra = { \"Pomes\" : {\"Qty\": 5, \"€\": 0.42}, \"Peres\" : {\"Qty\": 3, \"€\": 0.66} }\n",
    "print(type(compra))"
   ]
  },
  {
   "cell_type": "markdown",
   "id": "ccc4fa4c",
   "metadata": {},
   "source": [
    "- Afegeix alguna fruita més"
   ]
  },
  {
   "cell_type": "code",
   "execution_count": 49,
   "id": "2f4713b5",
   "metadata": {},
   "outputs": [],
   "source": [
    "compra[\"Platans\"] = {\"Qty\": 4, \"€\": 1.97}"
   ]
  },
  {
   "cell_type": "code",
   "execution_count": 58,
   "id": "acd19d50",
   "metadata": {},
   "outputs": [
    {
     "name": "stdout",
     "output_type": "stream",
     "text": [
      "{'Pomes': {'Qty': 5, '€': 0.42}, 'Peres': {'Qty': 3, '€': 0.66}, 'Platans': {'Qty': 4, '€': 1.97}}\n"
     ]
    }
   ],
   "source": [
    "print(compra)"
   ]
  },
  {
   "cell_type": "markdown",
   "id": "f1063975",
   "metadata": {},
   "source": [
    "- Quant han costat les peres en total?"
   ]
  },
  {
   "cell_type": "code",
   "execution_count": 51,
   "id": "4fa9baf1",
   "metadata": {},
   "outputs": [
    {
     "name": "stdout",
     "output_type": "stream",
     "text": [
      "1.98\n"
     ]
    }
   ],
   "source": [
    "pomesCompra = compra[\"Peres\"][\"€\"] * compra[\"Peres\"][\"Qty\"]\n",
    "print(pomesCompra)"
   ]
  },
  {
   "cell_type": "markdown",
   "id": "cc5cd643",
   "metadata": {},
   "source": [
    "- Quantes fruites hem comprat en total?"
   ]
  },
  {
   "cell_type": "code",
   "execution_count": 52,
   "id": "47fd6d4e",
   "metadata": {},
   "outputs": [
    {
     "name": "stdout",
     "output_type": "stream",
     "text": [
      "12\n"
     ]
    }
   ],
   "source": [
    "totalFruites = compra.get(\"Pomes\", {}).get(\"Qty\") + compra.get(\"Peres\", {}).get(\"Qty\") + compra.get(\"Platans\", {}).get(\"Qty\")\n",
    "print(totalFruites)"
   ]
  },
  {
   "cell_type": "markdown",
   "id": "099e1bd2",
   "metadata": {},
   "source": [
    "- Quina és la fruita més cara?"
   ]
  },
  {
   "cell_type": "code",
   "execution_count": 85,
   "id": "aec79095",
   "metadata": {},
   "outputs": [
    {
     "name": "stdout",
     "output_type": "stream",
     "text": [
      "La fruita més cara són els Platans i valen 1.97 € cadascú.\n"
     ]
    }
   ],
   "source": [
    "fruitaMesCara = None\n",
    "preuMesAlt = 0\n",
    "\n",
    "for fruita, value in compra.items():\n",
    "    preu = value[\"€\"]\n",
    "    if preu > preuMesAlt:\n",
    "        preuMesAlt = preu\n",
    "        fruitaMesCara = fruita\n",
    "print(\"La fruita més cara són els\", fruitaMesCara, \"i valen\", preuMesAlt, \"€ cadascú.\")\n",
    "    \n",
    "   \n",
    "   "
   ]
  },
  {
   "cell_type": "code",
   "execution_count": 84,
   "id": "4b3aa6fb",
   "metadata": {},
   "outputs": [
    {
     "name": "stdout",
     "output_type": "stream",
     "text": [
      "0.42\n",
      "Pomes: 0.42\n",
      "Peres: 0.66\n",
      "Platans: 1.97\n"
     ]
    }
   ],
   "source": [
    "## Notas personales \n",
    "\n",
    "primerElement = list(compra.values())[0]\n",
    "fruitaMesCara = primerElement[\"€\"]\n",
    "print(fruitaMesCara)\n",
    "\n",
    "for fruita, preu in compra.items():\n",
    "    print(\"{}: {}\".format(fruita, preu[\"€\"]))"
   ]
  },
  {
   "cell_type": "code",
   "execution_count": null,
   "id": "0f56d5e7",
   "metadata": {},
   "outputs": [],
   "source": []
  }
 ],
 "metadata": {
  "kernelspec": {
   "display_name": "Python 3 (ipykernel)",
   "language": "python",
   "name": "python3"
  },
  "language_info": {
   "codemirror_mode": {
    "name": "ipython",
    "version": 3
   },
   "file_extension": ".py",
   "mimetype": "text/x-python",
   "name": "python",
   "nbconvert_exporter": "python",
   "pygments_lexer": "ipython3",
   "version": "3.10.8"
  }
 },
 "nbformat": 4,
 "nbformat_minor": 5
}
